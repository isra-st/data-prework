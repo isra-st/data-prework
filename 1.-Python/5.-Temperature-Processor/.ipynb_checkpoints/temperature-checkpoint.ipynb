{
 "cells": [
  {
   "cell_type": "markdown",
   "metadata": {},
   "source": [
    "<img src=\"https://bit.ly/2VnXWr2\" width=\"100\" align=\"left\">"
   ]
  },
  {
   "cell_type": "markdown",
   "metadata": {},
   "source": [
    "# Temperature Sensor\n",
    "\n",
    "There is a temperature sensor in the processor of your company's server. The company wants to analyze the data provided by the sensor to decide if they should change the cooling system for a better one. As changing the cooling system is expensive and you are an excellent data analyst, you can't make a decision without basis.\n",
    "\n",
    "## Tools\n",
    "You don't necessarily need to use all the tools. Maybe you opt to use some of them or completely different ones, they are given to help you shape the exercise. Programming exercises can be solved in many different ways.\n",
    "1. Data structures: **lists**\n",
    "2. Loops: **list comprehension**\n",
    "3. Functions: **min, max, print, len**\n",
    "4. Conditional statements: **if-elif-else**\n",
    "\n",
    "## Tasks\n",
    "The temperatures measured throughout the 24 hours of a day are:"
   ]
  },
  {
   "cell_type": "code",
   "execution_count": 2,
   "metadata": {},
   "outputs": [],
   "source": [
    "temperatures_C = [33, 66, 65, 0, 59, 60, 62, 64, 70, 76, 80, 81, 80, 83, 90, 79, 61, 53, 50, 49, 53, 48, 45, 39]"
   ]
  },
  {
   "cell_type": "markdown",
   "metadata": {},
   "source": [
    "The first element of the list is the temperature at 12am, the second element is the temperature at 1am, and so on. \n",
    "\n",
    "The company has decided that if one of the following events occurs, then the cooling system needs to be replaced for a new one to avoid damaging the processor.\n",
    "* More than 4 temperatures are greater than or equal to 70ºC.\n",
    "* Any temperature is above 80ºC.\n",
    "* The average temperature exceeds 65ºC.\n",
    "\n",
    "Follow the steps so that you can make the decision.\n",
    "\n",
    "#### 1. Find the minimum temperature of the day and store it in a variable."
   ]
  },
  {
   "cell_type": "code",
   "execution_count": 3,
   "metadata": {},
   "outputs": [
    {
     "name": "stdout",
     "output_type": "stream",
     "text": [
      "0\n"
     ]
    }
   ],
   "source": [
    "min_temperature_C = min(temperatures_C) \n",
    "print(min_temperature_C)"
   ]
  },
  {
   "cell_type": "markdown",
   "metadata": {},
   "source": [
    "#### 2. Find the maximum temperature of the day and store it in a variable."
   ]
  },
  {
   "cell_type": "code",
   "execution_count": 4,
   "metadata": {},
   "outputs": [
    {
     "name": "stdout",
     "output_type": "stream",
     "text": [
      "90\n"
     ]
    }
   ],
   "source": [
    "max_temperature_C = max(temperatures_C) \n",
    "print(max_temperature_C)"
   ]
  },
  {
   "cell_type": "markdown",
   "metadata": {},
   "source": [
    "#### 3. Create a list with the temperatures that are greater than or equal to 70ºC. Store it in a variable."
   ]
  },
  {
   "cell_type": "code",
   "execution_count": 5,
   "metadata": {},
   "outputs": [
    {
     "name": "stdout",
     "output_type": "stream",
     "text": [
      "[70, 76, 80, 81, 80, 83, 90, 79]\n"
     ]
    }
   ],
   "source": [
    "high_temperatures_C = []\n",
    "\n",
    "for i in temperatures_C:\n",
    "    if i >= 70:\n",
    "        high_temperatures_C.append(i)\n",
    "print(high_temperatures_C)\n",
    "        \n",
    "        "
   ]
  },
  {
   "cell_type": "markdown",
   "metadata": {},
   "source": [
    "#### 4. Find the average temperature of the day and store it in a variable."
   ]
  },
  {
   "cell_type": "code",
   "execution_count": 6,
   "metadata": {},
   "outputs": [
    {
     "name": "stdout",
     "output_type": "stream",
     "text": [
      "60.25\n"
     ]
    }
   ],
   "source": [
    "avg_temperatures_C = sum(temperatures_C)/len(temperatures_C)\n",
    "print(avg_temperatures_C)"
   ]
  },
  {
   "cell_type": "markdown",
   "metadata": {},
   "source": [
    "#### 5. Imagine that there was a sensor failure at 3am and the data for that specific hour was not recorded. How would you estimate the missing value? Replace the current value of the list at 3am for an estimation. "
   ]
  },
  {
   "cell_type": "code",
   "execution_count": 7,
   "metadata": {},
   "outputs": [
    {
     "name": "stdout",
     "output_type": "stream",
     "text": [
      "The estimated temperature at 03:00am is: 62\n"
     ]
    }
   ],
   "source": [
    "\"\"\"\" Copy the temperatures_C in a new list \"\"\"\n",
    "\n",
    "temperatures_C23 = temperatures_C.copy()\n",
    "\n",
    "\"\"\"Removing 0 value at 03:00am:\n",
    "\n",
    "I remove the 0 to calculate an Standard Deviation more accuarate. \n",
    "\"\"\"\n",
    "\n",
    "if temperatures_C23[3] == 0: \n",
    "    temperatures_C23.remove(temperatures_C[3])\n",
    "\n",
    "\n",
    "\"\"\"Calulating standard deviation\"\"\"\n",
    "\n",
    "import statistics\n",
    "std_deviation = 0\n",
    "std_deviation = statistics.stdev(temperatures_C23)\n",
    "\n",
    "\"\"\"Estimating the temperature at 03:00am\n",
    "\n",
    "I will take the values at 02:00 AM and 04:00. \n",
    "Then I will add and sustratate the standard deviation value to the values at 02:00 AM and 04:00. \n",
    "I will get four values and I will calculate the average. \n",
    "I will get a value that should be very close to the real value. \n",
    "\"\"\"\n",
    "\n",
    "estimation_stdv = []\n",
    "estimation_stdv.append(temperatures_C23[2] + std_deviation)\n",
    "estimation_stdv.append(temperatures_C23[2] - std_deviation)\n",
    "estimation_stdv.append(temperatures_C23[3] + std_deviation)\n",
    "estimation_stdv.append(temperatures_C23[3] - std_deviation)\n",
    "\n",
    "avg_estimation = sum(estimation_stdv)/len(estimation_stdv)\n",
    "\n",
    "print('The estimated temperature at 03:00am is:', int(avg_estimation))\n",
    "\n",
    "\"\"\"\"Create a new list wiht the estimated temperature\"\"\"\n",
    "\n",
    "temperatures_C_estimated = []\n",
    "\n",
    "temperatures_C_estimated = temperatures_C.copy()\n",
    "\n",
    "temperatures_C_estimated[3] = int(avg_estimation)\n"
   ]
  },
  {
   "cell_type": "markdown",
   "metadata": {},
   "source": [
    "#### 6. Bonus: the maintenance staff is from the United States and does not understand the international metric system. Help them by converting the temperatures from Celsius to Fahrenheit.\n",
    "To know more about temperature conversion check this [link](https://en.wikipedia.org/wiki/Conversion_of_units_of_temperature).\n",
    "\n",
    "**Formula**: \n",
    "\n",
    "$F = 1.8 * C + 32$"
   ]
  },
  {
   "cell_type": "code",
   "execution_count": 8,
   "metadata": {},
   "outputs": [
    {
     "name": "stdout",
     "output_type": "stream",
     "text": [
      "[91.4, 150.8, 149.0, 32.0, 138.2, 140.0, 143.60000000000002, 147.2, 158.0, 168.8, 176.0, 177.8, 176.0, 181.4, 194.0, 174.20000000000002, 141.8, 127.4, 122.0, 120.2, 127.4, 118.4, 113.0, 102.2]\n"
     ]
    }
   ],
   "source": [
    "temperatures_C_far = []\n",
    "for i in temperatures_C:\n",
    "    temperatures_C_far.append((1.8*i)+32)\n",
    "print(temperatures_C_far)"
   ]
  },
  {
   "cell_type": "markdown",
   "metadata": {},
   "source": [
    "#### 7. Make a decision!\n",
    "Now it's time to make a decision taking into account what you have seen until now. \n",
    "\n",
    "Remember that if one of the following events occurs, then the cooling system needs to be replaced for a new one to avoid damaging the processor.\n",
    "* More than 4 temperatures are greater than or equal to 70ºC.\n",
    "* Any temperature is above 80ºC.\n",
    "* The average temperature exceeds 65ºC.\n",
    "\n",
    "#### To make your decision, check if any of the three conditions above is met. You might need to use some of the variables you created in steps 1 to 6. Print a message to show if the cooling system needs to be changed or not."
   ]
  },
  {
   "cell_type": "code",
   "execution_count": 9,
   "metadata": {},
   "outputs": [
    {
     "name": "stdout",
     "output_type": "stream",
     "text": [
      "Change the cooling system\n"
     ]
    }
   ],
   "source": [
    "if (len(high_temperatures_C) > 4) | (avg_temperatures_C > 65) | (max_temperature_C > 80) :\n",
    "    print('Change the cooling system')\n",
    "else: \n",
    "    print('The cooling system is working fine. It will not be needed to be chagned')"
   ]
  },
  {
   "cell_type": "markdown",
   "metadata": {},
   "source": [
    "## Bonus\n",
    "\n",
    "The company has decided that the decision you made is not valid. They want you to analyze the data again but this time, the conditions that need to be met in order to change the cooling system are different.\n",
    "\n",
    "This time, if one of the following events occurs, then the cooling system needs to be replaced:\n",
    "* The temperature is greater than 70ºC during more than 4 consecutive hours.\n",
    "* Any temperature is above 80ºC.\n",
    "* The average temperature exceeds 65ºC.\n",
    "\n",
    "Follow the steps so that you can make the decision.\n",
    "\n",
    "#### 1. Create a list with the hours where the temperature is greater than 70ºC. Store it in a variable."
   ]
  },
  {
   "cell_type": "code",
   "execution_count": 10,
   "metadata": {},
   "outputs": [
    {
     "name": "stdout",
     "output_type": "stream",
     "text": [
      "The code found more than 4 consecutive hours registered above 70\n"
     ]
    }
   ],
   "source": [
    "hours = []\n",
    "for n in range(0,24):\n",
    "    hours.append(str(n))\n",
    "    if len(hours) > 24:\n",
    "        break\n",
    "    \n",
    "dict_hours = {}\n",
    "\n",
    "dict_hours = dict(zip(hours, temperatures_C))\n",
    "\n",
    "seventy = 0 \n",
    "for k, v in dict_hours.items():\n",
    "    if v > 70:\n",
    "        seventy += 1\n",
    "    elif seventy >= 5:\n",
    "        print('The code found more than 4 consecutive hours registered above 70')\n",
    "        break\n",
    "    elif v <= 70:\n",
    "        seventy = 0\n",
    "    else:\n",
    "        print('The code did not found more than 4 consecutives hours registered above 70')\n",
    "        break\n"
   ]
  },
  {
   "cell_type": "markdown",
   "metadata": {},
   "source": [
    "#### 2. Check if the list you created in step 1 has more than 4 consecutive hours. "
   ]
  },
  {
   "cell_type": "code",
   "execution_count": 11,
   "metadata": {},
   "outputs": [
    {
     "name": "stdout",
     "output_type": "stream",
     "text": [
      "At 9 The temperature was 76\n",
      "At 10 The temperature was 80\n",
      "At 11 The temperature was 81\n",
      "At 12 The temperature was 80\n",
      "At 13 The temperature was 83\n",
      "At 14 The temperature was 90\n",
      "At 15 The temperature was 79\n"
     ]
    }
   ],
   "source": [
    "for k, v in dict_hours.items():\n",
    "    if (v > 70) & (seventy >= 5):\n",
    "        print('At', k, 'The temperature was', v)\n",
    "        "
   ]
  },
  {
   "cell_type": "markdown",
   "metadata": {},
   "source": [
    "#### 3. Make the decision!\n",
    "To make your decision, check if any of the three conditions is met. Print a message to show if the cooling system needs to be changed or not."
   ]
  },
  {
   "cell_type": "code",
   "execution_count": 12,
   "metadata": {},
   "outputs": [
    {
     "name": "stdout",
     "output_type": "stream",
     "text": [
      "Second reminder: Replace urgently the cooling system\n"
     ]
    }
   ],
   "source": [
    "\"\"\"\"\n",
    "The temperature is greater than 70ºC during more than 4 consecutive hours.\n",
    "Any temperature is above 80ºC.\n",
    "The average temperature exceeds 65ºC.\n",
    "\"\"\"\n",
    "\n",
    "if (seventy > 4) | (max_temperature_C > 80) | (avg_temperatures_C > 65):\n",
    "    print('Second reminder: Replace urgently the cooling system')\n",
    "    \n",
    "else:\n",
    "    print('Do not replace the colling system')\n"
   ]
  },
  {
   "cell_type": "markdown",
   "metadata": {},
   "source": [
    "#### 4. Find the average value of the temperature lists (ºC and ºF). What is the relation between both average values?"
   ]
  },
  {
   "cell_type": "code",
   "execution_count": 13,
   "metadata": {},
   "outputs": [
    {
     "name": "stdout",
     "output_type": "stream",
     "text": [
      " 1 - Mean for F temperatures 140.45\n",
      " 2 - Mean for C temperatures 60.25\n",
      " 3 - The correlation beteween both averages is that, it is the same result when you convert them from Celsius to Fahrenheit and the inverse, from Celsius to Fahrenheit\n",
      " 4 - I wanted to go a little bit deeper... The covariance between the two variables is 698.5956521739129 - We can see that it is positive, suggesting the variables change in the same direction as we expect.\n"
     ]
    }
   ],
   "source": [
    "avg_temperatures_C_far = sum(temperatures_C_far)/len(temperatures_C_far)\n",
    "avg_temperatures_C = sum(temperatures_C)/len(temperatures_C)\n",
    "\n",
    "print(' 1 - Mean for F temperatures', avg_temperatures_C_far)\n",
    "print(' 2 - Mean for C temperatures', avg_temperatures_C)\n",
    "\n",
    "print(' 3 - The correlation beteween both averages is that, it is the same result when you convert them from Celsius to Fahrenheit and the inverse, from Celsius to Fahrenheit')\n",
    "\n",
    "#cov(X, Y) = (sum (x - mean(X)) * (y - mean(Y)) ) * 1/(n-1)\n",
    "\n",
    "#I found below function on Internet, I need to practise the function definition.\n",
    "\n",
    "def cov(a, b):\n",
    "    if len(a) != len(b):\n",
    "        return\n",
    "    \n",
    "    sum = 0\n",
    "    \n",
    "    for i in range(0, len(a)):\n",
    "        sum += ((a[i] - a_mean) * (b[i] - b_mean))    \n",
    "    return sum * (1/(len(a)-1))\n",
    "        \n",
    "\n",
    "a_mean = avg_temperatures_C\n",
    "b_mean = avg_temperatures_C_far    \n",
    "cov(temperatures_C, temperatures_C_far)\n",
    "\n",
    "print(' 4 - I wanted to go a little bit deeper... The covariance between the two variables is', cov(temperatures_C, temperatures_C_far),'- We can see that it is positive, suggesting the variables change in the same direction as we expect.')\n"
   ]
  },
  {
   "cell_type": "markdown",
   "metadata": {},
   "source": [
    "#### 5. Find the standard deviation of the temperature lists (ºC and ºF). What is the relation between both standard deviations?"
   ]
  },
  {
   "cell_type": "code",
   "execution_count": 14,
   "metadata": {},
   "outputs": [
    {
     "name": "stdout",
     "output_type": "stream",
     "text": [
      " 1 - The standard deviation for the list in C is: 19.700474503223873\n",
      " 2 - The standard deviation for the list in F is: 35.46085410580297\n",
      " 3 - The correlation beteween both standdard deviations is that, it is the same result when you convert them from Celsius to Fahrenheit and, the inverse, from Fahrenheit to Celsius\n",
      " 4 - I wanted to go a little bit deeper... The pearson correlation is 0.9999999999999997 - As expected, there is a total correlation between both lists of temperatures\n"
     ]
    }
   ],
   "source": [
    "import statistics\n",
    "std_deviation_C = 0\n",
    "std_deviation_C = statistics.stdev(temperatures_C)\n",
    "std_deviation_F = 0\n",
    "std_deviation_F = statistics.stdev(temperatures_C_far)\n",
    "\n",
    "print(' 1 - The standard deviation for the list in C is:', std_deviation_C)\n",
    "print(' 2 - The standard deviation for the list in F is:', std_deviation_F)\n",
    "print(' 3 - The correlation beteween both standdard deviations is that, it is the same result when you convert them from Celsius to Fahrenheit and, the inverse, from Fahrenheit to Celsius')\n",
    "pearson = cov(temperatures_C, temperatures_C_far) / (std_deviation_C * std_deviation_F)\n",
    "print(' 4 - I wanted to go a little bit deeper... The pearson correlation is', pearson, '- As expected, there is a total correlation between both lists of temperatures')"
   ]
  }
 ],
 "metadata": {
  "kernelspec": {
   "display_name": "Python 3",
   "language": "python",
   "name": "python3"
  },
  "language_info": {
   "codemirror_mode": {
    "name": "ipython",
    "version": 3
   },
   "file_extension": ".py",
   "mimetype": "text/x-python",
   "name": "python",
   "nbconvert_exporter": "python",
   "pygments_lexer": "ipython3",
   "version": "3.9.0"
  }
 },
 "nbformat": 4,
 "nbformat_minor": 2
}
