{
 "cells": [
  {
   "cell_type": "markdown",
   "metadata": {},
   "source": [
    "<img src=\"https://bit.ly/2VnXWr2\" width=\"100\" align=\"left\">"
   ]
  },
  {
   "cell_type": "markdown",
   "metadata": {},
   "source": [
    "# The Snail and the Well\n",
    "\n",
    "A snail falls at the bottom of a 125 cm well. Each day the snail rises 30 cm. But at night, while sleeping, slides 20 cm because the walls are wet. How many days does it take for the snail to escape the well?\n",
    "\n",
    "**Hint**: The snail gets out of the well when it surpasses the 125cm of height.\n",
    "\n",
    "## Tools\n",
    "\n",
    "1. Loop: **while**\n",
    "2. Conditional statements: **if-else**\n",
    "3. Function: **print()**\n",
    "\n",
    "## Tasks\n",
    "\n",
    "#### 1. Assign the challenge data to variables with representative names: `well_height`, `daily_distance`, `nightly_distance` and `snail_position`."
   ]
  },
  {
   "cell_type": "code",
   "execution_count": 1,
   "metadata": {},
   "outputs": [],
   "source": [
    "well_height = 125\n",
    "daily_distance = 30\n",
    "nightly_distance = -20\n",
    "snail_position = 0\n"
   ]
  },
  {
   "cell_type": "markdown",
   "metadata": {},
   "source": [
    "#### 2. Create a variable `days` to keep count of the days that pass until the snail escapes the well. "
   ]
  },
  {
   "cell_type": "code",
   "execution_count": 2,
   "metadata": {},
   "outputs": [],
   "source": [
    "days = 0 "
   ]
  },
  {
   "cell_type": "markdown",
   "metadata": {},
   "source": [
    "#### 3. Find the solution to the challenge using the variables defined above. "
   ]
  },
  {
   "cell_type": "code",
   "execution_count": 3,
   "metadata": {},
   "outputs": [],
   "source": [
    "while snail_position < well_height:\n",
    "    snail_position += daily_distance\n",
    "    days += 1 \n",
    "    if snail_position > well_height:\n",
    "        snail_position = 125\n",
    "        break\n",
    "    else:\n",
    "        snail_position += nightly_distance"
   ]
  },
  {
   "cell_type": "markdown",
   "metadata": {},
   "source": [
    "#### 4. Print the solution."
   ]
  },
  {
   "cell_type": "code",
   "execution_count": 5,
   "metadata": {},
   "outputs": [
    {
     "name": "stdout",
     "output_type": "stream",
     "text": [
      "The number of days to get out of the well are: 11 days\n"
     ]
    }
   ],
   "source": [
    "print(\"The number of days to get out of the well are:\", days, \"days\")"
   ]
  },
  {
   "cell_type": "markdown",
   "metadata": {},
   "source": [
    "## Bonus\n",
    "The distance traveled by the snail each day is now defined by a list.\n",
    "```\n",
    "advance_cm = [30, 21, 33, 77, 44, 45, 23, 45, 12, 34, 55]\n",
    "```\n",
    "On the first day, the snail rises 30cm but during the night it slides 20cm. On the second day, the snail rises 21cm but during the night it slides 20cm, and so on. \n",
    "\n",
    "#### 1. How many days does it take for the snail to escape the well?\n",
    "Follow the same guidelines as in the previous challenge.\n",
    "\n",
    "**Hint**: Remember that the snail gets out of the well when it surpasses the 125cm of height."
   ]
  },
  {
   "cell_type": "code",
   "execution_count": 6,
   "metadata": {},
   "outputs": [
    {
     "name": "stdout",
     "output_type": "stream",
     "text": [
      "the number of days is: 6 days\n"
     ]
    }
   ],
   "source": [
    "# I have a doubt about this exercise, the fith day the snail climb to 125 cm but the snail didn't surpasse the 125cm of height.\n",
    "# During the entire exercise I forced the program to have as final snail_position 125cm but I didn't allow the snail to get out of the well until the 125 is surpassed.\n",
    "# I'm confused, Should the final snail_position 125cm or something different? Otherwise the snail will jump until 130cm (in the previous excercise) or 150cm (in the below excercise): \n",
    "\n",
    "advance_cm = [30, 21, 33, 77, 44, 45, 23, 45, 12, 34, 55]\n",
    "well_height = 125\n",
    "nightly_distance = -20\n",
    "snail_position = 0\n",
    "days_list = 0 \n",
    "new_advance_cm = []\n",
    "\n",
    "for a in advance_cm:\n",
    "    snail_position += a\n",
    "    days_list += 1\n",
    "    if snail_position > well_height:\n",
    "        snail_position = 125\n",
    "        break\n",
    "    else:\n",
    "        snail_position += nightly_distance\n",
    "\n",
    "\n",
    "print(\"the number of days is:\", days_list, \"days\")\n",
    "\n"
   ]
  },
  {
   "cell_type": "markdown",
   "metadata": {},
   "source": [
    "#### 2. What is its maximum displacement in one day? And its minimum? Calculate the displacement using only the travel distance of the days used to get out of the well. \n",
    "**Hint**: Remember that displacement means the total distance risen taking into account that the snail slides at night.  "
   ]
  },
  {
   "cell_type": "code",
   "execution_count": 12,
   "metadata": {},
   "outputs": [
    {
     "name": "stdout",
     "output_type": "stream",
     "text": [
      "The maximun displacement in one day is: 57\n",
      "The minimun displacement in one day is: 1\n"
     ]
    }
   ],
   "source": [
    "advance_cm = [30, 21, 33, 77, 44, 45, 23, 45, 12, 34, 55]\n",
    "well_height = 125\n",
    "nightly_distance = -20\n",
    "snail_position = 0\n",
    "days_list = 0 \n",
    "new_advance_cm = []\n",
    "distance = []\n",
    "max_distance = 0\n",
    "min_distance = 0\n",
    "\n",
    "for a in advance_cm:\n",
    "    snail_position += a\n",
    "    days_list += 1\n",
    "    if snail_position > well_height:\n",
    "        snail_position = 125\n",
    "        break\n",
    "    else:\n",
    "        snail_position += nightly_distance\n",
    "    new_advance_cm.append(snail_position) \n",
    "new_advance_cm.append(snail_position) \n",
    "\n",
    "distance = [(new_advance_cm[0]-0), (new_advance_cm[1]-new_advance_cm[0]), (new_advance_cm[2]-new_advance_cm[1]), (new_advance_cm[3]-new_advance_cm[2]), (new_advance_cm[4]-new_advance_cm[3]), (new_advance_cm[5]-new_advance_cm[4])]\n",
    "\n",
    "max_distance = max(distance)\n",
    "min_distance = min(distance)\n",
    "\n",
    "print(\"The maximun displacement in one day is:\", max_distance)\n",
    "print(\"The minimun displacement in one day is:\", min_distance)"
   ]
  },
  {
   "cell_type": "markdown",
   "metadata": {},
   "source": [
    "#### 3. What is its average progress? Take into account the snail slides at night."
   ]
  },
  {
   "cell_type": "code",
   "execution_count": 13,
   "metadata": {},
   "outputs": [
    {
     "name": "stdout",
     "output_type": "stream",
     "text": [
      "The average progress per day is: 20.833333333333332\n"
     ]
    }
   ],
   "source": [
    "average_progress = sum(distance)/len(distance)\n",
    "print(\"The average progress per day is:\", average_progress)"
   ]
  },
  {
   "cell_type": "markdown",
   "metadata": {},
   "source": [
    "#### 4. What is the standard deviation of its displacement? Take into account the snail slides at night."
   ]
  },
  {
   "cell_type": "code",
   "execution_count": 17,
   "metadata": {},
   "outputs": [
    {
     "name": "stdout",
     "output_type": "stream",
     "text": [
      "The standard deviation of its deplacement is: 19.44650782702814\n"
     ]
    }
   ],
   "source": [
    "import statistics\n",
    "standard_deviation = 0\n",
    "standard_deviation = statistics.stdev(distance)\n",
    "\n",
    "print(\"The standard deviation of its deplacement is:\", standard_deviation)"
   ]
  }
 ],
 "metadata": {
  "kernelspec": {
   "display_name": "Python 3",
   "language": "python",
   "name": "python3"
  },
  "language_info": {
   "codemirror_mode": {
    "name": "ipython",
    "version": 3
   },
   "file_extension": ".py",
   "mimetype": "text/x-python",
   "name": "python",
   "nbconvert_exporter": "python",
   "pygments_lexer": "ipython3",
   "version": "3.9.0"
  }
 },
 "nbformat": 4,
 "nbformat_minor": 2
}
