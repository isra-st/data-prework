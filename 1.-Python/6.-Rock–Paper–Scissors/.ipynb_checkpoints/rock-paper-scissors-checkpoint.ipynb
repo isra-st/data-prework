{
 "cells": [
  {
   "cell_type": "markdown",
   "metadata": {},
   "source": [
    "<img src=\"https://bit.ly/2VnXWr2\" width=\"100\" align=\"left\">"
   ]
  },
  {
   "cell_type": "markdown",
   "metadata": {},
   "source": [
    "# Rock, Paper & Scissors\n",
    "\n",
    "Let's play the famous game against our computer. You can check the rules [here](https://en.wikipedia.org/wiki/Rock%E2%80%93paper%E2%80%93scissors). \n",
    "\n",
    "## Task\n",
    "Create a program that imitates the playability of the well known game of rock, paper, scissors. Follow the guidelines provided.\n",
    "\n",
    "## Tools\n",
    "1. Loop: **for/while**\n",
    "2. Functions: **input(), print()...**\n",
    "3. Conditional statements: **if, elif, else**\n",
    "4. Definition of functions. Modular programming\n",
    "5. Import modules\n",
    "\n",
    "**To solve this challenge, the use of functions is recommended.**\n",
    "\n",
    "#### 1. Import the choice function of the random module."
   ]
  },
  {
   "cell_type": "code",
   "execution_count": 5,
   "metadata": {},
   "outputs": [],
   "source": [
    "import random"
   ]
  },
  {
   "cell_type": "markdown",
   "metadata": {},
   "source": [
    "#### 2. Create a list that includes the 3 possible gesture options of the game: 'rock', 'paper' or 'scissors'. Store the list in a variable called `gestures`."
   ]
  },
  {
   "cell_type": "code",
   "execution_count": 6,
   "metadata": {},
   "outputs": [],
   "source": [
    "gestures = ['rock', 'paper', 'scissors']"
   ]
  },
  {
   "cell_type": "markdown",
   "metadata": {},
   "source": [
    "#### 3. Create a variable called `n_rounds` to store the maximum number of rounds to play in a game. \n",
    "Remember that the number of rounds must be odd: 1, 3, 5, ..."
   ]
  },
  {
   "cell_type": "code",
   "execution_count": 8,
   "metadata": {},
   "outputs": [
    {
     "name": "stdout",
     "output_type": "stream",
     "text": [
      "Add the number of rounds you want to play: 7\n"
     ]
    }
   ],
   "source": [
    "n_rounds = 0\n",
    "while n_rounds == 0:\n",
    "    n_rounds = int(input('Add the number of rounds you want to play: '))\n",
    "while (n_rounds % 2) == 0:\n",
    "    n_rounds = int(input('Remember that the number of rounds must be odd: 1, 3, 5, ...: '))\n"
   ]
  },
  {
   "cell_type": "markdown",
   "metadata": {},
   "source": [
    "#### 4. Create a variable called `rounds_to_win` to store the number of rounds that a player must win to win the game.\n",
    "**Hint**: the value stored in `rounds_to_win` depends on the value of `n_rounds`. "
   ]
  },
  {
   "cell_type": "code",
   "execution_count": 9,
   "metadata": {},
   "outputs": [
    {
     "name": "stdout",
     "output_type": "stream",
     "text": [
      "4\n"
     ]
    }
   ],
   "source": [
    "rounds_to_win = 0 \n",
    "rounds_to_win = ((n_rounds // 2)+1)\n",
    "print(rounds_to_win)"
   ]
  },
  {
   "cell_type": "markdown",
   "metadata": {},
   "source": [
    "#### 5. Create two variables to store the number of rounds that the computer and the player have won. Call these variables `cpu_score` and `player_score`."
   ]
  },
  {
   "cell_type": "code",
   "execution_count": 10,
   "metadata": {},
   "outputs": [],
   "source": [
    "cpu_score = [0]\n",
    "player_score = [0]"
   ]
  },
  {
   "cell_type": "markdown",
   "metadata": {},
   "source": [
    "#### 6. Define a function that randomly returns one of the 3 gesture options.\n",
    "You will use this function to simulate the gesture choice of the computer. "
   ]
  },
  {
   "cell_type": "code",
   "execution_count": 11,
   "metadata": {},
   "outputs": [],
   "source": [
    "def cpu():\n",
    "    return random.choice(gestures)\n"
   ]
  },
  {
   "cell_type": "markdown",
   "metadata": {},
   "source": [
    "#### 7. Define a function that asks the player which is the gesture he or she wants to show: 'rock', 'paper' or 'scissors'.\n",
    "The player should only be allowed to choose one of the 3 gesture options. If the player's choice is not rock, paper or scissors, keep asking until it is."
   ]
  },
  {
   "cell_type": "code",
   "execution_count": 12,
   "metadata": {},
   "outputs": [],
   "source": [
    "def pla():\n",
    "    gesture = str(input('Please, add your gesture: '))\n",
    "    if (gesture == 'rock') | (gesture == 'paper') | (gesture == 'scissors'):\n",
    "        return gesture\n",
    "    while (gesture != 'rock') | (gesture != 'paper') | (gesture != 'scissors'):\n",
    "        gesture = str(input('Please, add your gesture, remember it can only be one of the three options rock, paper or scissors )  : '))\n",
    "        if (gesture == 'rock') | (gesture == 'paper') | (gesture == 'scissors'):\n",
    "            return gesture\n",
    "        \n"
   ]
  },
  {
   "cell_type": "markdown",
   "metadata": {},
   "source": [
    "#### 8. Define a function that checks who won a round. \n",
    "The function should return 0 if there is a tie, 1 if the computer wins and 2 if the player wins."
   ]
  },
  {
   "cell_type": "code",
   "execution_count": 13,
   "metadata": {},
   "outputs": [],
   "source": [
    "def winner():\n",
    "    \n",
    "    player_wins = 2\n",
    "    cpu_wins = 1\n",
    "    tie = 0\n",
    "\n",
    "    if (x == y):\n",
    "        return tie        \n",
    "    else:\n",
    "        if (x == 'rock') and (y == 'paper'):\n",
    "            return cpu_wins            \n",
    "        elif (x == 'rock') and (y == 'scissors'):\n",
    "            return player_wins            \n",
    "        elif (x == 'paper') and (y == 'rock'):\n",
    "            return player_wins            \n",
    "        elif (x == 'paper') and (y == 'scissors'):\n",
    "            return cpu_wins            \n",
    "        elif (x == 'scissors') and (y == 'paper'):\n",
    "            return player_wins        \n",
    "        elif (x == 'scissors') and (y == 'rock'):\n",
    "            return cpu_wins"
   ]
  },
  {
   "cell_type": "markdown",
   "metadata": {},
   "source": [
    "#### 9. Define a function that prints the choice of the computer, the choice of the player and a message that announces who won the current round. \n",
    "You should also use this function to update the variables that count the number of rounds that the computer and the player have won. The score of the winner increases by one point. If there is a tie, the score does not increase."
   ]
  },
  {
   "cell_type": "code",
   "execution_count": 14,
   "metadata": {},
   "outputs": [],
   "source": [
    "def choice():\n",
    "    print(f'You have chosen : {x}')\n",
    "    print(f'The cpu has chosen : {y}')\n",
    "    if z == 0:\n",
    "        print('Tie, good luck in the next round')\n",
    "    elif z == 1:\n",
    "        cpu_score[0] = cpu_score[0] + 1\n",
    "        print('The cpu won this round')\n",
    "    elif z == 2:\n",
    "        player_score[0] = player_score[0] + 1\n",
    "        print('you won this round')\n",
    "    \n",
    "    print('Your score is: ', player_score)\n",
    "    print('The cpu score is: ', cpu_score)\n",
    "\n"
   ]
  },
  {
   "cell_type": "markdown",
   "metadata": {},
   "source": [
    "#### 10. Now it's time to code the execution of the game using the functions and variables you defined above. \n",
    "\n",
    "First, create a loop structure that repeats while no player reaches the minimum score necessary to win and the number of rounds is less than the maximum number of rounds to play in a game.  \n",
    "\n",
    "Inside the loop, use the functions and variables above to create the execution of a round: ask for the player's choice, generate the random choice of the computer, show the round results, update the scores, etc. "
   ]
  },
  {
   "cell_type": "code",
   "execution_count": 15,
   "metadata": {},
   "outputs": [
    {
     "name": "stdout",
     "output_type": "stream",
     "text": [
      "Please, add your gesture: rock\n",
      "You have chosen : rock\n",
      "The cpu has chosen : scissors\n",
      "you won this round\n",
      "Your score is:  [1]\n",
      "The cpu score is:  [0]\n",
      "Please, add your gesture: paper\n",
      "You have chosen : paper\n",
      "The cpu has chosen : scissors\n",
      "The cpu won this round\n",
      "Your score is:  [1]\n",
      "The cpu score is:  [1]\n",
      "Please, add your gesture: rock\n",
      "You have chosen : rock\n",
      "The cpu has chosen : scissors\n",
      "you won this round\n",
      "Your score is:  [2]\n",
      "The cpu score is:  [1]\n",
      "Please, add your gesture: paper\n",
      "You have chosen : paper\n",
      "The cpu has chosen : rock\n",
      "you won this round\n",
      "Your score is:  [3]\n",
      "The cpu score is:  [1]\n",
      "Please, add your gesture: scissors\n",
      "You have chosen : scissors\n",
      "The cpu has chosen : scissors\n",
      "Tie, good luck in the next round\n",
      "Your score is:  [3]\n",
      "The cpu score is:  [1]\n",
      "Please, add your gesture: rock\n",
      "You have chosen : rock\n",
      "The cpu has chosen : paper\n",
      "The cpu won this round\n",
      "Your score is:  [3]\n",
      "The cpu score is:  [2]\n",
      "Please, add your gesture: rock\n",
      "You have chosen : rock\n",
      "The cpu has chosen : rock\n",
      "Tie, good luck in the next round\n",
      "Your score is:  [3]\n",
      "The cpu score is:  [2]\n"
     ]
    }
   ],
   "source": [
    "for i in range(0, n_rounds):    \n",
    "    y = cpu()\n",
    "    x = pla()\n",
    "    z = winner()\n",
    "    choice()\n",
    "    if player_score[0] == rounds_to_win:\n",
    "        break\n",
    "    elif cpu_score[0] == rounds_to_win:\n",
    "        break"
   ]
  },
  {
   "cell_type": "markdown",
   "metadata": {},
   "source": [
    "#### 11. Print the winner of the game based on who won more rounds.\n",
    "Remember that the game might be tied. "
   ]
  },
  {
   "cell_type": "code",
   "execution_count": 16,
   "metadata": {},
   "outputs": [
    {
     "name": "stdout",
     "output_type": "stream",
     "text": [
      "You are the winner. Well done, you are the Kasparov of this game\n"
     ]
    }
   ],
   "source": [
    "if player_score[0] > cpu_score[0]:\n",
    "    print('You are the winner. Well done, you are the Kasparov of this game')\n",
    "elif player_score[0] < cpu_score[0]:\n",
    "    print('You lost the game, you can go home for crying all night')\n",
    "else: \n",
    "    print('It was tied, try again')\n",
    "player_score[0] = 0\n",
    "cpu_score[0] = 0"
   ]
  },
  {
   "cell_type": "markdown",
   "metadata": {},
   "source": [
    "#### 12 . The full game.\n",
    " "
   ]
  },
  {
   "cell_type": "code",
   "execution_count": 19,
   "metadata": {},
   "outputs": [
    {
     "name": "stdout",
     "output_type": "stream",
     "text": [
      "Add the number of rounds you want to play: 7\n",
      "Please, add your gesture: paper\n",
      "You have chosen : paper\n",
      "The cpu has chosen : paper\n",
      "Tie, good luck in the next round\n",
      "Your score is:  [0]\n",
      "The cpu score is:  [0]\n",
      "Please, add your gesture: paper\n",
      "You have chosen : paper\n",
      "The cpu has chosen : rock\n",
      "you won this round\n",
      "Your score is:  [1]\n",
      "The cpu score is:  [0]\n",
      "Please, add your gesture: paper\n",
      "You have chosen : paper\n",
      "The cpu has chosen : rock\n",
      "you won this round\n",
      "Your score is:  [2]\n",
      "The cpu score is:  [0]\n",
      "Please, add your gesture: paper\n",
      "You have chosen : paper\n",
      "The cpu has chosen : rock\n",
      "you won this round\n",
      "Your score is:  [3]\n",
      "The cpu score is:  [0]\n",
      "Please, add your gesture: paper\n",
      "You have chosen : paper\n",
      "The cpu has chosen : paper\n",
      "Tie, good luck in the next round\n",
      "Your score is:  [3]\n",
      "The cpu score is:  [0]\n",
      "Please, add your gesture: rock\n",
      "You have chosen : rock\n",
      "The cpu has chosen : paper\n",
      "The cpu won this round\n",
      "Your score is:  [3]\n",
      "The cpu score is:  [1]\n",
      "Please, add your gesture: scissors\n",
      "You have chosen : scissors\n",
      "The cpu has chosen : scissors\n",
      "Tie, good luck in the next round\n",
      "Your score is:  [3]\n",
      "The cpu score is:  [1]\n",
      "You are the winner. Well done, you are the Kasparov of this game\n"
     ]
    }
   ],
   "source": [
    "n_rounds = 0\n",
    "while n_rounds == 0:\n",
    "    n_rounds = int(input('Add the number of rounds you want to play: '))\n",
    "while (n_rounds % 2) == 0:\n",
    "    n_rounds = int(input('Remember that the number of rounds must be odd: 1, 3, 5, ...: '))\n",
    "rounds_to_win = 0 \n",
    "rounds_to_win = ((n_rounds // 2)+1)\n",
    "\n",
    "for i in range(0, n_rounds):    \n",
    "    y = cpu()\n",
    "    x = pla()\n",
    "    z = winner()\n",
    "    choice()\n",
    "    if player_score[0] == rounds_to_win:\n",
    "        break\n",
    "    elif cpu_score[0] == rounds_to_win:\n",
    "        break\n",
    "\n",
    "if player_score[0] > cpu_score[0]:\n",
    "    print('You are the winner. Well done, you are the Kasparov of this game')\n",
    "elif player_score[0] < cpu_score[0]:\n",
    "    print('You lost the game, you can go home for crying all night')\n",
    "else: \n",
    "    print('It was tied, try again')\n",
    "\n",
    "player_score[0] = 0\n",
    "cpu_score[0] = 0"
   ]
  },
  {
   "cell_type": "markdown",
   "metadata": {},
   "source": [
    "# Bonus: Rock, Paper, Scissors, Lizard & Spock\n",
    "![](images/rpsls.jpg)\n",
    "\n",
    "In this challenge, you need to improve the previous game by adding two new options. To know more about the rules of the improved version of rock, paper, scissors, check this [link](http://www.samkass.com/theories/RPSSL.html). \n",
    "\n",
    "In addition, you will also need to improve how the game interacts with the player: the number of rounds to play, which must be an odd number, will be requested to the user until a valid number is entered. Define a new function to make that request.\n",
    "\n",
    "**Hint**: Try to reuse the code that you already coded in the previous challenge. If your code is efficient, this bonus will only consist of simple modifications to the original game."
   ]
  },
  {
   "cell_type": "code",
   "execution_count": 4,
   "metadata": {},
   "outputs": [
    {
     "name": "stdout",
     "output_type": "stream",
     "text": [
      "Add the number of rounds you want to play: 15\n",
      "Please, add your gesture: rock\n",
      "You have chosen : rock\n",
      "The cpu has chosen : paper\n",
      "The cpu won this round.\n",
      "Your score is:  [0]\n",
      "The cpu score is:  [1]\n",
      "Please, add your gesture: paper\n",
      "You have chosen : paper\n",
      "The cpu has chosen : paper\n",
      "Tie, good luck in the next round.\n",
      "Your score is:  [0]\n",
      "The cpu score is:  [1]\n",
      "Please, add your gesture: lizard\n",
      "You have chosen : lizard\n",
      "The cpu has chosen : lizard\n",
      "Tie, good luck in the next round.\n",
      "Your score is:  [0]\n",
      "The cpu score is:  [1]\n",
      "Please, add your gesture: spock\n",
      "You have chosen : spock\n",
      "The cpu has chosen : spock\n",
      "Tie, good luck in the next round.\n",
      "Your score is:  [0]\n",
      "The cpu score is:  [1]\n",
      "Please, add your gesture: paper\n",
      "You have chosen : paper\n",
      "The cpu has chosen : paper\n",
      "Tie, good luck in the next round.\n",
      "Your score is:  [0]\n",
      "The cpu score is:  [1]\n",
      "Please, add your gesture: rock\n",
      "You have chosen : rock\n",
      "The cpu has chosen : paper\n",
      "The cpu won this round.\n",
      "Your score is:  [0]\n",
      "The cpu score is:  [2]\n",
      "Please, add your gesture: rock\n",
      "You have chosen : rock\n",
      "The cpu has chosen : rock\n",
      "Tie, good luck in the next round.\n",
      "Your score is:  [0]\n",
      "The cpu score is:  [2]\n",
      "Please, add your gesture: paper\n",
      "You have chosen : paper\n",
      "The cpu has chosen : rock\n",
      "You won this round.\n",
      "Your score is:  [1]\n",
      "The cpu score is:  [2]\n",
      "Please, add your gesture: paper\n",
      "You have chosen : paper\n",
      "The cpu has chosen : lizard\n",
      "The cpu won this round.\n",
      "Your score is:  [1]\n",
      "The cpu score is:  [3]\n",
      "Please, add your gesture: spock\n",
      "You have chosen : spock\n",
      "The cpu has chosen : spock\n",
      "Tie, good luck in the next round.\n",
      "Your score is:  [1]\n",
      "The cpu score is:  [3]\n",
      "Please, add your gesture: rock\n",
      "You have chosen : rock\n",
      "The cpu has chosen : paper\n",
      "The cpu won this round.\n",
      "Your score is:  [1]\n",
      "The cpu score is:  [4]\n",
      "Please, add your gesture: paper\n",
      "You have chosen : paper\n",
      "The cpu has chosen : paper\n",
      "Tie, good luck in the next round.\n",
      "Your score is:  [1]\n",
      "The cpu score is:  [4]\n",
      "Please, add your gesture: lizard\n",
      "You have chosen : lizard\n",
      "The cpu has chosen : spock\n",
      "You won this round.\n",
      "Your score is:  [2]\n",
      "The cpu score is:  [4]\n",
      "Please, add your gesture: rock\n",
      "You have chosen : rock\n",
      "The cpu has chosen : rock\n",
      "Tie, good luck in the next round.\n",
      "Your score is:  [2]\n",
      "The cpu score is:  [4]\n",
      "Please, add your gesture: paper\n",
      "You have chosen : paper\n",
      "The cpu has chosen : scissors\n",
      "The cpu won this round.\n",
      "Your score is:  [2]\n",
      "The cpu score is:  [5]\n",
      "You lost the game, you can go home for crying all night\n"
     ]
    }
   ],
   "source": [
    "#Import Random\n",
    "\n",
    "import random\n",
    "\n",
    "#list of gestures\n",
    "\n",
    "gestures_2 = ['rock', 'paper', 'scissors', 'lizard', 'spock']\n",
    "\n",
    "\n",
    "#Random cpu gesture selection\n",
    "\n",
    "def cpu2():\n",
    "    return random.choice(gestures_2)\n",
    "\n",
    "\n",
    "#Player gesture selection\n",
    "\n",
    "def pla2():\n",
    "    gesture = str(input('Please, add your gesture: '))\n",
    "    if (gesture == 'rock') | (gesture == 'paper') | (gesture == 'scissors') | (gesture == 'lizard') | (gesture == 'spock'):\n",
    "        return gesture\n",
    "    while (gesture != 'rock') | (gesture != 'paper') | (gesture != 'scissors') | (gesture != 'lizard') | (gesture != 'spock'):\n",
    "        gesture = str(input('Please, add your gesture, remember it can only be one of the three options rock, paper or scissors )  : '))\n",
    "        if (gesture == 'rock') | (gesture == 'paper') | (gesture == 'scissors') | (gesture == 'lizard') | (gesture == 'spock'):\n",
    "            return gesture\n",
    "\n",
    "#Who is the winner of the round\n",
    "\n",
    "def winner2():\n",
    "    \n",
    "    player_wins = 2\n",
    "    cpu_wins = 1\n",
    "    tie = 0\n",
    "\n",
    "    if (a == b):\n",
    "        return tie        \n",
    "    else:\n",
    "        if (a == 'rock') and (b == 'paper'):\n",
    "            return cpu_wins            \n",
    "        elif (a == 'rock') and (b == 'scissors'):\n",
    "            return player_wins\n",
    "        elif (a == 'rock') and (b == 'lizard'):\n",
    "            return player_wins\n",
    "        elif (a == 'rock') and (b == 'spock'):\n",
    "            return cpu_wins\n",
    "        elif (a == 'paper') and (b == 'rock'):\n",
    "            return player_wins            \n",
    "        elif (a == 'paper') and (b == 'scissors'):\n",
    "            return cpu_wins\n",
    "        elif (a == 'paper') and (b == 'lizard'):\n",
    "            return cpu_wins\n",
    "        elif (a == 'paper') and (b == 'spock'):\n",
    "            return player_wins\n",
    "        elif (a == 'scissors') and (b == 'paper'):\n",
    "            return player_wins        \n",
    "        elif (a == 'scissors') and (b == 'rock'):\n",
    "            return cpu_wins\n",
    "        elif (a == 'scissors') and (b == 'lizard'):\n",
    "            return player_wins        \n",
    "        elif (a == 'scissors') and (b == 'spock'):\n",
    "            return cpu_wins\n",
    "        elif (a == 'lizard') and (b == 'rock'):\n",
    "            return cpu_wins            \n",
    "        elif (a == 'lizard') and (b == 'scissors'):\n",
    "            return cpu_wins\n",
    "        elif (a == 'lizard') and (b == 'paper'):\n",
    "            return player_wins\n",
    "        elif (a == 'lizard') and (b == 'spock'):\n",
    "            return player_wins\n",
    "        elif (a == 'spock') and (b == 'rock'):\n",
    "            return player_wins            \n",
    "        elif (a == 'spock') and (b == 'scissors'):\n",
    "            return player_wins\n",
    "        elif (a == 'spock') and (b == 'paper'):\n",
    "            return cpu_wins\n",
    "        elif (a == 'spock') and (b == 'lizard'):\n",
    "            return cpu_wins\n",
    "        \n",
    "#Score Rergister\n",
    "\n",
    "cpu_score = [0]\n",
    "player_score = [0]\n",
    "\n",
    "#Round counting and player information\n",
    "\n",
    "def choice2():\n",
    "    print(f'You have chosen : {a}')\n",
    "    print(f'The cpu has chosen : {b}')\n",
    "    if c == 0:\n",
    "        print('Tie, good luck in the next round.')\n",
    "    elif c == 1:\n",
    "        cpu_score[0] = cpu_score[0] + 1\n",
    "        print('The cpu won this round.')\n",
    "    elif c == 2:\n",
    "        player_score[0] = player_score[0] + 1\n",
    "        print('You won this round.')\n",
    "    \n",
    "    print('Your score is: ', player_score)\n",
    "    print('The cpu score is: ', cpu_score)\n",
    "\n",
    "#Selection of the rounds and rounds to win the game\n",
    "\n",
    "n_rounds = 0\n",
    "while n_rounds == 0:\n",
    "    n_rounds = int(input('Add the number of rounds you want to play: '))\n",
    "while (n_rounds % 2) == 0:\n",
    "    n_rounds = int(input('Remember that the number of rounds must be odd: 1, 3, 5, ...: '))\n",
    "\n",
    "rounds_to_win = 0 \n",
    "rounds_to_win = ((n_rounds // 2)+1)\n",
    "\n",
    "\n",
    "#The loop \n",
    "\n",
    "for i in range(0, n_rounds):    \n",
    "    b = cpu2()\n",
    "    a = pla2()\n",
    "    c = winner2()\n",
    "    choice2()\n",
    "    if player_score[0] == rounds_to_win:\n",
    "        break\n",
    "    elif cpu_score[0] == rounds_to_win:\n",
    "        break\n",
    "        \n",
    "#who is the winner of the game\n",
    "\n",
    "if player_score[0] > cpu_score[0]:\n",
    "    print('You are the winner. Well done, you are the Kasparov of this game.')\n",
    "elif player_score[0] < cpu_score[0]:\n",
    "    print('You lost the game, you can go home for crying all night.')\n",
    "else: \n",
    "    print('It was tied, try again')\n",
    "    \n",
    "#Counters to 0\n",
    "\n",
    "player_score[0] = 0\n",
    "cpu_score[0] = 0"
   ]
  },
  {
   "cell_type": "code",
   "execution_count": null,
   "metadata": {},
   "outputs": [],
   "source": []
  }
 ],
 "metadata": {
  "kernelspec": {
   "display_name": "Python 3",
   "language": "python",
   "name": "python3"
  },
  "language_info": {
   "codemirror_mode": {
    "name": "ipython",
    "version": 3
   },
   "file_extension": ".py",
   "mimetype": "text/x-python",
   "name": "python",
   "nbconvert_exporter": "python",
   "pygments_lexer": "ipython3",
   "version": "3.9.0"
  }
 },
 "nbformat": 4,
 "nbformat_minor": 2
}
